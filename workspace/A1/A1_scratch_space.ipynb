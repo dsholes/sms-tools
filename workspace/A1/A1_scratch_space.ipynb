{
 "cells": [
  {
   "cell_type": "code",
   "execution_count": 47,
   "metadata": {},
   "outputs": [],
   "source": [
    "import sys\n",
    "import os\n",
    "from pathlib import Path\n",
    "import numpy as np\n",
    "\n",
    "sys.path.append('/Users/emilygerger/repos/sms-tools/software/models')\n",
    "from utilFunctions import wavread, wavwrite"
   ]
  },
  {
   "cell_type": "code",
   "execution_count": 58,
   "metadata": {},
   "outputs": [],
   "source": [
    "sms_path = Path('/Users/emilygerger/repos/sms-tools/')\n",
    "sounds_dir_path = sms_path / 'sounds'\n",
    "a1_path = sms_path / 'workspace/A1/A1'\n",
    "sounds_path_list = list(sounds_dir_path.glob('vibraphone-C6.wav'))\n",
    "inputFile = sounds_path_list[0]"
   ]
  },
  {
   "cell_type": "code",
   "execution_count": 59,
   "metadata": {},
   "outputs": [],
   "source": [
    "input_file_path = Path(inputFile)\n",
    "wav_sr, wav_arr = wavread(input_file_path)\n",
    "M = 16\n",
    "down_wav = wav_arr[::M]\n",
    "down_sr = int(wav_sr/M)\n",
    "input_filename = input_file_path.stem\n",
    "output_filename = '{0}_downsampled.wav'.format(input_filename)\n",
    "output_path = Path(output_filename)\n",
    "wavwrite(down_wav,down_sr,a1_path/output_path)"
   ]
  },
  {
   "cell_type": "code",
   "execution_count": 62,
   "metadata": {},
   "outputs": [
    {
     "data": {
      "text/plain": [
       "'vibraphone-C6_downsampled.wav'"
      ]
     },
     "execution_count": 62,
     "metadata": {},
     "output_type": "execute_result"
    }
   ],
   "source": []
  },
  {
   "cell_type": "code",
   "execution_count": null,
   "metadata": {},
   "outputs": [],
   "source": [
    "wavwrite()"
   ]
  },
  {
   "cell_type": "code",
   "execution_count": 46,
   "metadata": {},
   "outputs": [
    {
     "data": {
      "text/plain": [
       "143336"
      ]
     },
     "execution_count": 46,
     "metadata": {},
     "output_type": "execute_result"
    }
   ],
   "source": [
    "len(wav_arr)"
   ]
  },
  {
   "cell_type": "code",
   "execution_count": 38,
   "metadata": {},
   "outputs": [
    {
     "data": {
      "text/plain": [
       "array([ 0.000824  ,  0.00054933,  0.00024415, -0.00067141, -0.00106815],\n",
       "      dtype=float32)"
      ]
     },
     "execution_count": 38,
     "metadata": {},
     "output_type": "execute_result"
    }
   ],
   "source": [
    "small_arr[::2]"
   ]
  },
  {
   "cell_type": "code",
   "execution_count": 41,
   "metadata": {},
   "outputs": [
    {
     "data": {
      "text/plain": [
       "array([0, 2, 4, 6, 8])"
      ]
     },
     "execution_count": 41,
     "metadata": {},
     "output_type": "execute_result"
    }
   ],
   "source": [
    "x = np.arange(10)\n",
    "M = 2\n",
    "x[::M]"
   ]
  },
  {
   "cell_type": "code",
   "execution_count": null,
   "metadata": {},
   "outputs": [],
   "source": []
  }
 ],
 "metadata": {
  "kernelspec": {
   "display_name": "Python [conda env:music]",
   "language": "python",
   "name": "conda-env-music-py"
  },
  "language_info": {
   "codemirror_mode": {
    "name": "ipython",
    "version": 3
   },
   "file_extension": ".py",
   "mimetype": "text/x-python",
   "name": "python",
   "nbconvert_exporter": "python",
   "pygments_lexer": "ipython3",
   "version": "3.7.7"
  }
 },
 "nbformat": 4,
 "nbformat_minor": 4
}
