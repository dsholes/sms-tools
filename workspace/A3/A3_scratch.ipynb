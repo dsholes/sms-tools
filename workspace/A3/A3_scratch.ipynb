{
 "cells": [
  {
   "cell_type": "code",
   "execution_count": 1,
   "metadata": {},
   "outputs": [],
   "source": [
    "from scipy.fftpack import fft\n",
    "import numpy as np\n",
    "from math import gcd\n",
    "\n",
    "import loadTestCases"
   ]
  },
  {
   "cell_type": "code",
   "execution_count": 41,
   "metadata": {},
   "outputs": [],
   "source": [
    "testcase = loadTestCases.load(partId=1, caseId=1)"
   ]
  },
  {
   "cell_type": "code",
   "execution_count": 86,
   "metadata": {},
   "outputs": [],
   "source": [
    "def minimizeEnergySpreadDFT(x, fs, f1, f2):\n",
    "    \"\"\"\n",
    "    Inputs:\n",
    "        x (numpy array) = input signal \n",
    "        fs (float) = sampling frequency in Hz\n",
    "        f1 (float) = frequency of the first sinusoid component in Hz\n",
    "        f2 (float) = frequency of the second sinusoid component in Hz\n",
    "    Output:\n",
    "        The function should return \n",
    "        mX (numpy array) = The positive half of the DFT spectrum (in dB) of the M sample segment of x. \n",
    "                           mX is (M/2)+1 samples long (M is to be computed)\n",
    "    \"\"\"\n",
    "    T1 = 1./f1\n",
    "    T2 = 1./f2\n",
    "    Ts1 = int(T1*fs)\n",
    "    Ts2 = int(T2*fs)\n",
    "    M = int(Ts1*Ts2/gcd(Ts1,Ts2))\n",
    "    #x1 = genSine(A=1.,f=f1,phi=0,fs=fs,t=M/fs)\n",
    "    #x2 = genSine(A=1.,f=f2,phi=0,fs=fs,t=M/fs)\n",
    "    #x = x1+x2\n",
    "    X = fft(x,M)\n",
    "    mX = 20*np.log10(abs(X[:int(M/2)+1]))\n",
    "    return mX"
   ]
  },
  {
   "cell_type": "code",
   "execution_count": 91,
   "metadata": {},
   "outputs": [
    {
     "name": "stdout",
     "output_type": "stream",
     "text": [
      "Test passed\n",
      "Test passed\n"
     ]
    }
   ],
   "source": [
    "cases = [1,2]\n",
    "for i in cases:\n",
    "    testcase = loadTestCases.load(partId=1, caseId=i)\n",
    "    ground_truth = testcase['output']\n",
    "\n",
    "    my_output = minimizeEnergySpreadDFT(**testcase['input'])\n",
    "    dB_cutoff = -120.\n",
    "    if np.allclose(my_output[my_output>dB_cutoff],\n",
    "                   ground_truth[ground_truth>dB_cutoff]):\n",
    "        print('Test passed')\n",
    "    else:\n",
    "        print('my output:{0}'.format(my_output))\n",
    "        print('ground truth: {0}'.format(ground_truth))"
   ]
  },
  {
   "cell_type": "code",
   "execution_count": 34,
   "metadata": {},
   "outputs": [],
   "source": [
    "def optimalZeropad(x, fs, f):\n",
    "    \"\"\"\n",
    "    Inputs:\n",
    "        x (numpy array) = input signal of length M\n",
    "        fs (float) = sampling frequency in Hz\n",
    "        f (float) = frequency of the sinusoid in Hz\n",
    "    Output:\n",
    "        The function should return\n",
    "        mX (numpy array) = The positive half of the DFT spectrum of the N point DFT after zero-padding \n",
    "                        x appropriately (zero-padding length to be computed). mX is (N/2)+1 samples long\n",
    "    \"\"\"\n",
    "    T = 1./f\n",
    "    Ts = T*fs\n",
    "    M = len(x)\n",
    "    zero_pad_len = int((np.ceil(M/Ts) - M/Ts)*Ts)\n",
    "    x_padded = np.append(x,np.zeros(zero_pad_len))\n",
    "    N = len(x_padded)\n",
    "    X = fft(x_padded, N)\n",
    "    mx = 20*np.log10(abs(X[:int(N/2)+1]))\n",
    "    return mx"
   ]
  },
  {
   "cell_type": "code",
   "execution_count": 35,
   "metadata": {},
   "outputs": [
    {
     "name": "stdout",
     "output_type": "stream",
     "text": [
      "Test passed\n",
      "Test passed\n"
     ]
    }
   ],
   "source": [
    "partId = 2\n",
    "cases = [1,2]\n",
    "for caseId in cases:\n",
    "    testcase = loadTestCases.load(partId=partId, caseId=caseId)\n",
    "    ground_truth = testcase['output']\n",
    "\n",
    "    my_output = optimalZeropad(**testcase['input'])\n",
    "    dB_cutoff = -120.\n",
    "    if np.allclose(my_output[my_output>dB_cutoff],\n",
    "                   ground_truth[ground_truth>dB_cutoff]):\n",
    "        print('Test passed')\n",
    "    else:\n",
    "        print('my output:{0}'.format(my_output))\n",
    "        print('ground truth: {0}'.format(ground_truth))"
   ]
  },
  {
   "cell_type": "code",
   "execution_count": null,
   "metadata": {},
   "outputs": [],
   "source": []
  }
 ],
 "metadata": {
  "kernelspec": {
   "display_name": "Python [conda env:music]",
   "language": "python",
   "name": "conda-env-music-py"
  },
  "language_info": {
   "codemirror_mode": {
    "name": "ipython",
    "version": 3
   },
   "file_extension": ".py",
   "mimetype": "text/x-python",
   "name": "python",
   "nbconvert_exporter": "python",
   "pygments_lexer": "ipython3",
   "version": "3.7.7"
  }
 },
 "nbformat": 4,
 "nbformat_minor": 4
}
