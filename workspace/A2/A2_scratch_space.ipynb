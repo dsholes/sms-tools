{
 "cells": [
  {
   "cell_type": "code",
   "execution_count": 1,
   "metadata": {},
   "outputs": [],
   "source": [
    "import numpy as np"
   ]
  },
  {
   "cell_type": "code",
   "execution_count": 2,
   "metadata": {},
   "outputs": [
    {
     "data": {
      "text/plain": [
       "array([ 1.        +0.j        ,  0.30901699+0.95105652j,\n",
       "       -0.80901699+0.58778525j, -0.80901699-0.58778525j,\n",
       "        0.30901699-0.95105652j])"
      ]
     },
     "execution_count": 2,
     "metadata": {},
     "output_type": "execute_result"
    }
   ],
   "source": [
    "k = 1\n",
    "N = 5\n",
    "n = np.arange(0,N)\n",
    "np.exp(1j * 2. * np.pi * k * n/N)"
   ]
  },
  {
   "cell_type": "code",
   "execution_count": 3,
   "metadata": {},
   "outputs": [],
   "source": [
    "def genComplexSine(k, N):\n",
    "    \"\"\"\n",
    "    Inputs:\n",
    "        k (integer) = frequency index of the complex sinusoid of the DFT\n",
    "        N (integer) = length of complex sinusoid in samples\n",
    "    Output:\n",
    "        The function should return a numpy array\n",
    "        cSine (numpy array) = The generated complex sinusoid (length N)\n",
    "    \"\"\"\n",
    "    n = np.arange(0,N)\n",
    "    return np.conjugate(np.exp(1j * 2. * np.pi * k * n/N))"
   ]
  },
  {
   "cell_type": "code",
   "execution_count": 21,
   "metadata": {},
   "outputs": [],
   "source": [
    "x = np.array([1,2,3,4])\n",
    "\n",
    "x = x.astype(complex)\n",
    "N = len(x)\n",
    "X = np.zeros(N,dtype=complex)\n",
    "k = np.arange(N)\n",
    "k = k.reshape(4,1)\n",
    "\n",
    "X = np.sum(x*genComplexSine(k,N),axis=1)"
   ]
  },
  {
   "cell_type": "code",
   "execution_count": 26,
   "metadata": {},
   "outputs": [],
   "source": [
    "x_inv = np.sum(X*np.conjugate(genComplexSine(k,N))/N,axis=1)"
   ]
  },
  {
   "cell_type": "code",
   "execution_count": 28,
   "metadata": {},
   "outputs": [
    {
     "data": {
      "text/plain": [
       "True"
      ]
     },
     "execution_count": 28,
     "metadata": {},
     "output_type": "execute_result"
    }
   ],
   "source": [
    "np.allclose(x,x_inv)"
   ]
  },
  {
   "cell_type": "code",
   "execution_count": 16,
   "metadata": {},
   "outputs": [
    {
     "data": {
      "text/plain": [
       "array([[0, 0, 0, 0],\n",
       "       [0, 1, 2, 3],\n",
       "       [0, 2, 4, 6],\n",
       "       [0, 3, 6, 9]])"
      ]
     },
     "execution_count": 16,
     "metadata": {},
     "output_type": "execute_result"
    }
   ],
   "source": [
    "def DFT(x):\n",
    "    \"\"\"\n",
    "    Input:\n",
    "        x (numpy array) = input sequence of length N\n",
    "    Output:\n",
    "        The function should return a numpy array of length N\n",
    "        X (numpy array) = The N point DFT of the input sequence x\n",
    "    \"\"\"\n",
    "    x = x.astype(complex)\n",
    "    N = len(x)\n",
    "    X = np.zeros(N,dtype=complex)\n",
    "    for k in range(N):\n",
    "        complex_sine = genComplexSine(k,N)\n",
    "        X[k] = np.sum(x*complex_sine)\n",
    "    return X"
   ]
  },
  {
   "cell_type": "code",
   "execution_count": 9,
   "metadata": {},
   "outputs": [
    {
     "data": {
      "text/plain": [
       "array([1.0000000e+00-0.0000000e+00j, 6.1232340e-17-1.0000000e+00j,\n",
       "       1.0000000e+00+2.4492936e-16j, 5.5109106e-16-1.0000000e+00j])"
      ]
     },
     "execution_count": 9,
     "metadata": {},
     "output_type": "execute_result"
    }
   ],
   "source": [
    "genComplexSine(k,N)"
   ]
  },
  {
   "cell_type": "code",
   "execution_count": null,
   "metadata": {},
   "outputs": [],
   "source": []
  }
 ],
 "metadata": {
  "kernelspec": {
   "display_name": "Python [conda env:music]",
   "language": "python",
   "name": "conda-env-music-py"
  },
  "language_info": {
   "codemirror_mode": {
    "name": "ipython",
    "version": 3
   },
   "file_extension": ".py",
   "mimetype": "text/x-python",
   "name": "python",
   "nbconvert_exporter": "python",
   "pygments_lexer": "ipython3",
   "version": "3.7.7"
  }
 },
 "nbformat": 4,
 "nbformat_minor": 4
}
